{
 "cells": [
  {
   "cell_type": "markdown",
   "id": "beba22e1-9872-43e0-aa0f-54d394e9d3e4",
   "metadata": {},
   "source": [
    "# Лабораторная работа №3"
   ]
  },
  {
   "cell_type": "markdown",
   "id": "165ecec1-c7f3-4f19-a89d-f6b70a3cd320",
   "metadata": {},
   "source": [
    "## \"Приближенное вычисление интегралов\""
   ]
  },
  {
   "cell_type": "markdown",
   "id": "ca3b8007-078f-4d40-820c-338f7671b5f2",
   "metadata": {},
   "source": [
    "У меня был 1 вариант заданий, следовательно использовались следующие данные:\n",
    "1. Определенный интеграл\n",
    "$$ \\int_{0}^{1}\\frac{ln(1 + x)}{1 + x^2}dx $$\n",
    "2. Составные квадратурные формулы трапеций и Симпсона\n",
    "3. Количество узлов равно $$ k = 5 $$\n",
    "4. Точное значение интеграла равно $$ I = \\frac{\\pi}{8}ln2 $$"
   ]
  },
  {
   "cell_type": "markdown",
   "id": "aae7ce3b-990d-4433-9986-231d313d4abb",
   "metadata": {},
   "source": [
    "### Задание 1"
   ]
  },
  {
   "cell_type": "markdown",
   "id": "3898d2c7-b239-432d-814c-2220407c8f84",
   "metadata": {},
   "source": [
    "Вычислить интеграл $ \\int_{a}^{b}f(x)dx $ с точностью $ \\epsilon = 10^{-7} $ используя составные квадратурные формулы (КФ), указанные в варианте задания, и правило Рунге оценки погрешности. Сравнить полученные приближенные значения интеграла с точным значением $ I $.\\\n",
    "\\\n",
    "В содержание отчета должна быть включена следующая информация:\n",
    "- Применяемые составные квадратурные формулы.\n",
    "- Правило Рунге оценки погрешности.\n",
    "- Результаты вычислительного эксперимента, оформленные в виде таблицы.\n",
    "- Выводы.\n",
    "- Листинг программы с комментариями."
   ]
  },
  {
   "cell_type": "markdown",
   "id": "9fcac189-6d89-4340-9898-faea1aebfaec",
   "metadata": {},
   "source": [
    "#### Импорт библиотек"
   ]
  },
  {
   "cell_type": "code",
   "execution_count": 60,
   "id": "22fc3e50-18c4-4b54-9c7c-daaba627fd2c",
   "metadata": {
    "tags": []
   },
   "outputs": [],
   "source": [
    "import numpy as np\n",
    "import pandas as pd\n",
    "from scipy.special import roots_legendre"
   ]
  },
  {
   "cell_type": "markdown",
   "id": "a8dbb767-c9f9-4dfd-8fc5-db529d0ff6bc",
   "metadata": {},
   "source": [
    "#### Подынтегральная функция"
   ]
  },
  {
   "cell_type": "code",
   "execution_count": 63,
   "id": "9c88887f-0379-4a1d-8e39-b55eb7d661f5",
   "metadata": {
    "tags": []
   },
   "outputs": [],
   "source": [
    "def f(x):\n",
    "    return np.log(1 + x) / (1 + x**2)"
   ]
  },
  {
   "cell_type": "markdown",
   "id": "6a04c9c3-06b1-446c-b7cc-2873a7d4e503",
   "metadata": {
    "tags": []
   },
   "source": [
    "#### Функция квадратурной формулы трапеций"
   ]
  },
  {
   "cell_type": "code",
   "execution_count": 66,
   "id": "0fcd43ac-02fd-4716-8c3a-412babb37348",
   "metadata": {
    "tags": []
   },
   "outputs": [],
   "source": [
    "def trapezoidal_rule(a, b, n):\n",
    "    h = (b - a) / n\n",
    "    integral = 0.0\n",
    "    for i in range(1, n):\n",
    "        x_i = a + i * h\n",
    "        integral += f(x_i)\n",
    "    integral += (f(a) + f(b)) / 2\n",
    "    integral *= h\n",
    "    return integral"
   ]
  },
  {
   "cell_type": "markdown",
   "id": "bd9c7828-5ae7-4aa2-8fa4-20ee030e65ba",
   "metadata": {},
   "source": [
    "#### Функция квадратурной формулы Симпсона"
   ]
  },
  {
   "cell_type": "code",
   "execution_count": 69,
   "id": "bcda961b-a9e0-47af-95ea-0191fe4d87d6",
   "metadata": {
    "tags": []
   },
   "outputs": [],
   "source": [
    "def simpsons_rule(a, b, n):\n",
    "    h = (b - a) / n\n",
    "    integral = f(a) + f(b)\n",
    "    for i in range(1, n):\n",
    "        x_i = a + i * h\n",
    "        if i % 2 == 0:\n",
    "            integral += 2 * f(x_i)\n",
    "        else:\n",
    "            integral += 4 * f(x_i)\n",
    "    integral *= h / 3\n",
    "    return integral"
   ]
  },
  {
   "cell_type": "markdown",
   "id": "15d8f9e0-687f-4cab-acc2-950f14b5baf0",
   "metadata": {},
   "source": [
    "#### Функция правила Рунге оценки погрешности"
   ]
  },
  {
   "cell_type": "code",
   "execution_count": 72,
   "id": "4c353844-6cd4-484a-b3ee-1974a26ca0f1",
   "metadata": {
    "tags": []
   },
   "outputs": [],
   "source": [
    "def runge_rule(I1, I2, m):\n",
    "    return np.abs(I2 - I1) / (2**m - 1)"
   ]
  },
  {
   "cell_type": "markdown",
   "id": "d64e10c8-a0fa-4fd6-abfb-c0c65d7686fb",
   "metadata": {},
   "source": [
    "#### Функция заполнения таблицы с КФ трапеций"
   ]
  },
  {
   "cell_type": "code",
   "execution_count": 90,
   "id": "d68e14b6-9cff-4d36-acab-6b250325a2a2",
   "metadata": {
    "tags": []
   },
   "outputs": [],
   "source": [
    "def composite_trapezoidal_rule(a, b, epsilon, I, df):\n",
    "    k = 1\n",
    "    I1 = trapezoidal_rule(a, b, k)\n",
    "    while True:\n",
    "        h = (b - a) / k\n",
    "        I2 = trapezoidal_rule(a, b, 2 * k)\n",
    "        error = runge_rule(I1, I2, 2)\n",
    "        abs_error = np.abs(I - I2)\n",
    "        df.loc[len(df.index)] = [\"Трапеции\", 2 * k, h, I2, error, abs_error]\n",
    "        if error <= epsilon:\n",
    "            return I2\n",
    "        I1 = I2\n",
    "        k *= 2"
   ]
  },
  {
   "cell_type": "markdown",
   "id": "99bbb02e-e936-44c1-a9b2-102142414513",
   "metadata": {
    "tags": []
   },
   "source": [
    "#### Функция заполнения таблицы с КФ Симпсона"
   ]
  },
  {
   "cell_type": "code",
   "execution_count": 93,
   "id": "894a1917-c8b8-4cb8-acdc-2f02499741af",
   "metadata": {
    "tags": []
   },
   "outputs": [],
   "source": [
    "def composite_simpsons_rule(a, b, epsilon, I, df):\n",
    "    k = 1\n",
    "    I1 = simpsons_rule(a, b, k)\n",
    "    while True:\n",
    "        h = (b - a) / k\n",
    "        I2 = simpsons_rule(a, b, 2 * k)\n",
    "        error = runge_rule(I1, I2, 4)\n",
    "        abs_error = np.abs(I - I2)\n",
    "        df.loc[len(df.index)] = [\"Симпсона\", 2 * k, h, I2, error, abs_error]\n",
    "        if error < epsilon:\n",
    "            return I2\n",
    "        I1 = I2\n",
    "        k *= 2"
   ]
  },
  {
   "cell_type": "markdown",
   "id": "7632194a-ec17-48cf-bae3-f49409b1ad3f",
   "metadata": {
    "tags": []
   },
   "source": [
    "#### Вызов функций"
   ]
  },
  {
   "cell_type": "code",
   "execution_count": 96,
   "id": "04383901-0262-4f7d-b501-c271dce3604b",
   "metadata": {
    "tags": []
   },
   "outputs": [],
   "source": [
    "# Точное значение интеграла\n",
    "I = (np.pi * np.log(2)) / 8\n",
    "\n",
    "# Значения a и b\n",
    "a = 0\n",
    "b = 1\n",
    "\n",
    "# Значение эпсилон\n",
    "eps = 1e-7\n",
    "\n",
    "# Создаём таблицу\n",
    "df = pd.DataFrame(columns=[\"Квадратурная формула\",\n",
    "                           \"Число разбиений\",\n",
    "                           \"Шаг\",\n",
    "                           \"Приближенное значение интеграла\",\n",
    "                           \"Оценка погрешности\",\n",
    "                           \"Абсолютная погрешность\"])\n",
    "\n",
    "# Вычисление интеграла с помощью квадратурной формулы трапеции\n",
    "approx_trapezoidal_integral = composite_trapezoidal_rule(a, b, eps, I, df)\n",
    "\n",
    "# Вычисление интеграла с помощью квадратурной формулы Симпсона\n",
    "approx_simpsons_integral = composite_simpsons_rule(a, b, eps, I, df)\n"
   ]
  },
  {
   "cell_type": "code",
   "execution_count": 98,
   "id": "4669f716-5755-4572-b5af-acd6ed27eb58",
   "metadata": {
    "tags": []
   },
   "outputs": [
    {
     "data": {
      "text/html": [
       "<div>\n",
       "<style scoped>\n",
       "    .dataframe tbody tr th:only-of-type {\n",
       "        vertical-align: middle;\n",
       "    }\n",
       "\n",
       "    .dataframe tbody tr th {\n",
       "        vertical-align: top;\n",
       "    }\n",
       "\n",
       "    .dataframe thead th {\n",
       "        text-align: right;\n",
       "    }\n",
       "</style>\n",
       "<table border=\"1\" class=\"dataframe\">\n",
       "  <thead>\n",
       "    <tr style=\"text-align: right;\">\n",
       "      <th></th>\n",
       "      <th>Квадратурная формула</th>\n",
       "      <th>Число разбиений</th>\n",
       "      <th>Шаг</th>\n",
       "      <th>Приближенное значение интеграла</th>\n",
       "      <th>Оценка погрешности</th>\n",
       "      <th>Абсолютная погрешность</th>\n",
       "    </tr>\n",
       "  </thead>\n",
       "  <tbody>\n",
       "    <tr>\n",
       "      <th>0</th>\n",
       "      <td>Трапеции</td>\n",
       "      <td>2</td>\n",
       "      <td>1.000000</td>\n",
       "      <td>0.248829</td>\n",
       "      <td>2.518088e-02</td>\n",
       "      <td>2.336882e-02</td>\n",
       "    </tr>\n",
       "    <tr>\n",
       "      <th>1</th>\n",
       "      <td>Трапеции</td>\n",
       "      <td>4</td>\n",
       "      <td>0.500000</td>\n",
       "      <td>0.266458</td>\n",
       "      <td>5.876057e-03</td>\n",
       "      <td>5.740650e-03</td>\n",
       "    </tr>\n",
       "    <tr>\n",
       "      <th>2</th>\n",
       "      <td>Трапеции</td>\n",
       "      <td>8</td>\n",
       "      <td>0.250000</td>\n",
       "      <td>0.270769</td>\n",
       "      <td>1.437009e-03</td>\n",
       "      <td>1.429623e-03</td>\n",
       "    </tr>\n",
       "    <tr>\n",
       "      <th>3</th>\n",
       "      <td>Трапеции</td>\n",
       "      <td>16</td>\n",
       "      <td>0.125000</td>\n",
       "      <td>0.271841</td>\n",
       "      <td>3.575180e-04</td>\n",
       "      <td>3.570690e-04</td>\n",
       "    </tr>\n",
       "    <tr>\n",
       "      <th>4</th>\n",
       "      <td>Трапеции</td>\n",
       "      <td>32</td>\n",
       "      <td>0.062500</td>\n",
       "      <td>0.272109</td>\n",
       "      <td>8.927422e-05</td>\n",
       "      <td>8.924634e-05</td>\n",
       "    </tr>\n",
       "    <tr>\n",
       "      <th>5</th>\n",
       "      <td>Трапеции</td>\n",
       "      <td>64</td>\n",
       "      <td>0.031250</td>\n",
       "      <td>0.272176</td>\n",
       "      <td>2.231202e-05</td>\n",
       "      <td>2.231028e-05</td>\n",
       "    </tr>\n",
       "    <tr>\n",
       "      <th>6</th>\n",
       "      <td>Трапеции</td>\n",
       "      <td>128</td>\n",
       "      <td>0.015625</td>\n",
       "      <td>0.272193</td>\n",
       "      <td>5.577598e-06</td>\n",
       "      <td>5.577489e-06</td>\n",
       "    </tr>\n",
       "    <tr>\n",
       "      <th>7</th>\n",
       "      <td>Трапеции</td>\n",
       "      <td>256</td>\n",
       "      <td>0.007812</td>\n",
       "      <td>0.272197</td>\n",
       "      <td>1.394374e-06</td>\n",
       "      <td>1.394367e-06</td>\n",
       "    </tr>\n",
       "    <tr>\n",
       "      <th>8</th>\n",
       "      <td>Трапеции</td>\n",
       "      <td>512</td>\n",
       "      <td>0.003906</td>\n",
       "      <td>0.272198</td>\n",
       "      <td>3.485919e-07</td>\n",
       "      <td>3.485915e-07</td>\n",
       "    </tr>\n",
       "    <tr>\n",
       "      <th>9</th>\n",
       "      <td>Трапеции</td>\n",
       "      <td>1024</td>\n",
       "      <td>0.001953</td>\n",
       "      <td>0.272198</td>\n",
       "      <td>8.714787e-08</td>\n",
       "      <td>8.714785e-08</td>\n",
       "    </tr>\n",
       "    <tr>\n",
       "      <th>10</th>\n",
       "      <td>Симпсона</td>\n",
       "      <td>2</td>\n",
       "      <td>1.000000</td>\n",
       "      <td>0.274010</td>\n",
       "      <td>1.056572e-02</td>\n",
       "      <td>1.812061e-03</td>\n",
       "    </tr>\n",
       "    <tr>\n",
       "      <th>11</th>\n",
       "      <td>Симпсона</td>\n",
       "      <td>4</td>\n",
       "      <td>0.500000</td>\n",
       "      <td>0.272334</td>\n",
       "      <td>1.117770e-04</td>\n",
       "      <td>1.354071e-04</td>\n",
       "    </tr>\n",
       "    <tr>\n",
       "      <th>12</th>\n",
       "      <td>Симпсона</td>\n",
       "      <td>8</td>\n",
       "      <td>0.250000</td>\n",
       "      <td>0.272206</td>\n",
       "      <td>8.534744e-06</td>\n",
       "      <td>7.385943e-06</td>\n",
       "    </tr>\n",
       "    <tr>\n",
       "      <th>13</th>\n",
       "      <td>Симпсона</td>\n",
       "      <td>16</td>\n",
       "      <td>0.125000</td>\n",
       "      <td>0.272199</td>\n",
       "      <td>4.624635e-07</td>\n",
       "      <td>4.489897e-07</td>\n",
       "    </tr>\n",
       "    <tr>\n",
       "      <th>14</th>\n",
       "      <td>Симпсона</td>\n",
       "      <td>32</td>\n",
       "      <td>0.062500</td>\n",
       "      <td>0.272198</td>\n",
       "      <td>2.807422e-08</td>\n",
       "      <td>2.787641e-08</td>\n",
       "    </tr>\n",
       "  </tbody>\n",
       "</table>\n",
       "</div>"
      ],
      "text/plain": [
       "   Квадратурная формула  Число разбиений       Шаг  \\\n",
       "0              Трапеции                2  1.000000   \n",
       "1              Трапеции                4  0.500000   \n",
       "2              Трапеции                8  0.250000   \n",
       "3              Трапеции               16  0.125000   \n",
       "4              Трапеции               32  0.062500   \n",
       "5              Трапеции               64  0.031250   \n",
       "6              Трапеции              128  0.015625   \n",
       "7              Трапеции              256  0.007812   \n",
       "8              Трапеции              512  0.003906   \n",
       "9              Трапеции             1024  0.001953   \n",
       "10             Симпсона                2  1.000000   \n",
       "11             Симпсона                4  0.500000   \n",
       "12             Симпсона                8  0.250000   \n",
       "13             Симпсона               16  0.125000   \n",
       "14             Симпсона               32  0.062500   \n",
       "\n",
       "    Приближенное значение интеграла  Оценка погрешности  \\\n",
       "0                          0.248829        2.518088e-02   \n",
       "1                          0.266458        5.876057e-03   \n",
       "2                          0.270769        1.437009e-03   \n",
       "3                          0.271841        3.575180e-04   \n",
       "4                          0.272109        8.927422e-05   \n",
       "5                          0.272176        2.231202e-05   \n",
       "6                          0.272193        5.577598e-06   \n",
       "7                          0.272197        1.394374e-06   \n",
       "8                          0.272198        3.485919e-07   \n",
       "9                          0.272198        8.714787e-08   \n",
       "10                         0.274010        1.056572e-02   \n",
       "11                         0.272334        1.117770e-04   \n",
       "12                         0.272206        8.534744e-06   \n",
       "13                         0.272199        4.624635e-07   \n",
       "14                         0.272198        2.807422e-08   \n",
       "\n",
       "    Абсолютная погрешность  \n",
       "0             2.336882e-02  \n",
       "1             5.740650e-03  \n",
       "2             1.429623e-03  \n",
       "3             3.570690e-04  \n",
       "4             8.924634e-05  \n",
       "5             2.231028e-05  \n",
       "6             5.577489e-06  \n",
       "7             1.394367e-06  \n",
       "8             3.485915e-07  \n",
       "9             8.714785e-08  \n",
       "10            1.812061e-03  \n",
       "11            1.354071e-04  \n",
       "12            7.385943e-06  \n",
       "13            4.489897e-07  \n",
       "14            2.787641e-08  "
      ]
     },
     "execution_count": 98,
     "metadata": {},
     "output_type": "execute_result"
    }
   ],
   "source": [
    "df"
   ]
  },
  {
   "cell_type": "markdown",
   "id": "ef655afe-f8e5-4063-a340-be678fc5272b",
   "metadata": {},
   "source": [
    "Вывод: Метод Симпсона сходится намного быстрее метода трапеции."
   ]
  },
  {
   "cell_type": "markdown",
   "id": "da997f98-6e34-4955-892e-cda7387b74e0",
   "metadata": {},
   "source": [
    "### Задание 2"
   ]
  },
  {
   "cell_type": "markdown",
   "id": "4b9aeae4-13c4-4c0b-b778-b2a8207bfde3",
   "metadata": {},
   "source": [
    "Вычислить приближенное значение интеграла из задания 1, используя квадратурную формулу наивысшей алгебраической степени точности (НАСТ) с $ k $ узлами.\\\n",
    "\\\n",
    "В содержание отчета должна быть включена следующая информация:\n",
    "- КФ НАСТ с $ k $ узлами.\n",
    "- Приближенное значение интеграла, вычисленное с помощью КФ НАСТ. Сравнение с точным значением $ I $.\n",
    "- Выводы.\n",
    "- Листинг программы с комментариями."
   ]
  },
  {
   "cell_type": "code",
   "execution_count": 88,
   "id": "357f4bd3-042b-4ae9-be9f-084461bfacec",
   "metadata": {},
   "outputs": [
    {
     "name": "stdout",
     "output_type": "stream",
     "text": [
      "Значение интеграла НАСТ:  0.27219802575118046\n",
      "Погрешность:  2.3553676981036276e-07\n"
     ]
    }
   ],
   "source": [
    "def gauss_legendre_integration(a, b, k):\n",
    "    # Получаем узлы и веса квадратурной формулы Гаусса-Лежандра\n",
    "    x, w = np.polynomial.legendre.leggauss(k)\n",
    "    # Пересчитываем интервалы\n",
    "    x_mapped = (b - a) / 2 * x + (b + a) / 2\n",
    "    # Вычисляем значение интеграла\n",
    "    integral = ((b - a) / 2) * np.sum(w * f(x_mapped))\n",
    "    return integral\n",
    "\n",
    "print(\"Значение интеграла НАСТ: \", gauss_legendre_integration(a, b, 5))\n",
    "print(\"Погрешность: \", abs(I - gauss_legendre_integration(a, b, 5)))"
   ]
  },
  {
   "cell_type": "markdown",
   "id": "8b95fb94-4cff-46bf-bc04-c7032134bad8",
   "metadata": {
    "tags": []
   },
   "source": [
    "Вывод: Погрешность КФ НАСТ меньше погрешностей методов выше"
   ]
  }
 ],
 "metadata": {
  "kernelspec": {
   "display_name": "Python 3 (ipykernel)",
   "language": "python",
   "name": "python3"
  },
  "language_info": {
   "codemirror_mode": {
    "name": "ipython",
    "version": 3
   },
   "file_extension": ".py",
   "mimetype": "text/x-python",
   "name": "python",
   "nbconvert_exporter": "python",
   "pygments_lexer": "ipython3",
   "version": "3.11.7"
  }
 },
 "nbformat": 4,
 "nbformat_minor": 5
}
