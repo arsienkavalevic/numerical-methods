{
 "cells": [
  {
   "cell_type": "markdown",
   "id": "beba22e1-9872-43e0-aa0f-54d394e9d3e4",
   "metadata": {},
   "source": [
    "# Лабораторная работа №4"
   ]
  },
  {
   "cell_type": "markdown",
   "id": "165ecec1-c7f3-4f19-a89d-f6b70a3cd320",
   "metadata": {},
   "source": [
    "## \"Численные методы решения задачи Коши\""
   ]
  },
  {
   "cell_type": "markdown",
   "id": "ca3b8007-078f-4d40-820c-338f7671b5f2",
   "metadata": {},
   "source": [
    "У меня был 1 вариант заданий, следовательно использовались следующие данные:\n",
    "1. Задача Коши\n",
    "$$ u' = -u^2 + \\frac{u}{x}, x \\in [1, 2] $$\n",
    "$$ u(1) = \\frac{2}{3} $$\n",
    "2. Точное решение $$ u(x) = \\frac{2x}{x^2 + 2} $$\n",
    "3. Методы:\n",
    "- Неявный метод трапеций;\n",
    "- Явный метод Рунге-Кутты 4-го порядка;\n",
    "- Предиктор-корректорный метод Адамса 4-го порядка."
   ]
  },
  {
   "cell_type": "markdown",
   "id": "aae7ce3b-990d-4433-9986-231d313d4abb",
   "metadata": {},
   "source": [
    "### Задание лабараторной работы"
   ]
  },
  {
   "cell_type": "markdown",
   "id": "3898d2c7-b239-432d-814c-2220407c8f84",
   "metadata": {},
   "source": [
    "Решить задачу Коши для обыкновенного дифференциального уравнения первого порядка на отрезке $ [a, b] $ с шагом $ h = 0.1 $ методами, указанными в варианте задания. Оценить погрешность численного решения с шагом $ h = 0.1 $ с помощью правила Рунге (для одношаговых методов). Сравнить полученные численные решения с точным решением $ u(x) $. В одной системе координат построить график функции $ u(x) $ и график одного из полученных численных решений.\\\n",
    "\\\n",
    "По результатам лабораторной работы оформляется отчет. В содержание отчета должна быть включена следующая информация:\n",
    "- Постановка задачи.\n",
    "- Применяемые численные методы. Итерационный процесс метода Ньютона для реализации неявного метода трапеций.\n",
    "- Правило Рунге оценки погрешности.\n",
    "- Результаты вычислительного эксперимента, оформленные в виде таблицы.\n",
    "- Выводы.\n",
    "- Листинг программы с комментариями."
   ]
  },
  {
   "cell_type": "markdown",
   "id": "024682ed-6ed1-480b-8ea0-b26cfea80dd3",
   "metadata": {
    "tags": []
   },
   "source": [
    "#### Импорт библиотек"
   ]
  },
  {
   "cell_type": "code",
   "execution_count": 1,
   "id": "0fdc25be-9542-44e5-8f4a-5eced1f2d08f",
   "metadata": {
    "tags": []
   },
   "outputs": [],
   "source": [
    "import numpy as np\n",
    "import pandas as pd"
   ]
  },
  {
   "cell_type": "markdown",
   "id": "7f914d2d-ab9a-40dc-9ffd-bef122163444",
   "metadata": {},
   "source": [
    "#### Задача Коши"
   ]
  },
  {
   "cell_type": "code",
   "execution_count": 4,
   "id": "3759d560-6267-47b3-90f4-5edcb7ef64e0",
   "metadata": {
    "tags": []
   },
   "outputs": [],
   "source": [
    "def f(x, u):\n",
    "    return -(u * u) + (u / x)"
   ]
  },
  {
   "cell_type": "markdown",
   "id": "0defa338-4dac-4f05-bc6a-574ad213f54e",
   "metadata": {},
   "source": [
    "#### Производная"
   ]
  },
  {
   "cell_type": "code",
   "execution_count": 7,
   "id": "925a9ec7-e6ce-4f25-8f20-a1c05bc6cf0d",
   "metadata": {
    "tags": []
   },
   "outputs": [],
   "source": [
    "def derivative(x, u):\n",
    "    return (1 / x) - (2 * u)"
   ]
  },
  {
   "cell_type": "markdown",
   "id": "bf29e5cb-76b5-40f7-8ff2-598900b92df4",
   "metadata": {},
   "source": [
    "#### Точное решение"
   ]
  },
  {
   "cell_type": "code",
   "execution_count": 10,
   "id": "2c5d061e-3412-4cdb-926e-4fa837cb7ec7",
   "metadata": {
    "tags": []
   },
   "outputs": [],
   "source": [
    "def solution(x):\n",
    "    return (2 * x) / (x**2 + 2)"
   ]
  },
  {
   "cell_type": "code",
   "execution_count": 12,
   "id": "eac318a5-bda5-43a0-a178-e65245517f32",
   "metadata": {
    "tags": []
   },
   "outputs": [],
   "source": [
    "def correct_solution(a, b, h):\n",
    "    n = int((b - a) / h)\n",
    "    y = [0] * (n + 1)\n",
    "    for i in range(n + 1):\n",
    "        x_i = a + (h * i)\n",
    "        y[i] = solution(x_i)\n",
    "    return y"
   ]
  },
  {
   "cell_type": "markdown",
   "id": "bb480e7b-c9c4-4b31-950e-dbbf9aa2aa06",
   "metadata": {},
   "source": [
    "#### Оценки погрешности"
   ]
  },
  {
   "cell_type": "markdown",
   "id": "488e0218-054d-4bd7-a4dd-35e7c6d1aafa",
   "metadata": {},
   "source": [
    "Правило Рунге\n",
    "$$ \\frac{|y_{i, h} - y_{i, h/2}|}{2^p - 1} $$\n",
    "$ p $ - порядок точности метода"
   ]
  },
  {
   "cell_type": "code",
   "execution_count": 16,
   "id": "6d1e9952-4e63-431c-ba96-8e3b2cfca206",
   "metadata": {
    "tags": []
   },
   "outputs": [],
   "source": [
    "def runge_rule(err, y_h, y_2h, p):\n",
    "    return max(err, np.abs(y_2h - y_h) / ((2**p) - 1))"
   ]
  },
  {
   "cell_type": "markdown",
   "id": "4219b4c8-7106-4aa5-9771-407df23e526c",
   "metadata": {},
   "source": [
    "$$ max(|u(x_i) - y_i|)_{(i=0,N)} $$"
   ]
  },
  {
   "cell_type": "code",
   "execution_count": 19,
   "id": "cf7e99a4-d4b1-4657-9090-679bf829deb7",
   "metadata": {
    "tags": []
   },
   "outputs": [],
   "source": [
    "def max_absolute_error(err, corr, y):\n",
    "    return max(err, np.abs(corr - y))"
   ]
  },
  {
   "cell_type": "markdown",
   "id": "6749eaad-c003-48d1-a06c-927a21c76785",
   "metadata": {},
   "source": [
    "#### Неявный метод трапеций"
   ]
  },
  {
   "cell_type": "markdown",
   "id": "b2869886-9870-4c7c-8b7b-a546474cfba0",
   "metadata": {},
   "source": [
    "$$ y_{i + 1} = y_{i} + \\frac{h}{2}(f(x_i, y_i) + f(x_{i + 1}, y_{i + 1}^k)) $$\n",
    "Начальное приближение метода Ньютона:\n",
    "$$ y_0 = u_0 $$\n",
    "$$ y_{i + 1}^{0} = y_i $$\n",
    "Итерационный процесс:\n",
    "$$ y_{i + 1}^{k + 1} = y_{i + 1}^{k} - \\frac{(y_{i + 1}^{k} - y_i - \\frac{h}{2}(f(x_i, y_i) + f(x_{i + 1}, y_{i + 1}^{k})))}{1 - \\frac{h}{2}f'(x_{i + 1}, y_{i + 1}^{k})} $$\n",
    "Условие выхода из итерационного процесса:\n",
    "$$ |y_{i + 1}^{k + 1} - y_{i + 1}^{k}| < EPS > 0 $$"
   ]
  },
  {
   "cell_type": "code",
   "execution_count": 23,
   "id": "633832fd-4e7b-4486-a629-0e250aa105a8",
   "metadata": {
    "tags": []
   },
   "outputs": [],
   "source": [
    "def trapezoidal(a, b, h, u_0, epsilon=1e-7):\n",
    "    n = int((b - a) / h)\n",
    "    y = [0] * (n + 1)\n",
    "    y[0] = u_0\n",
    "    for i in range(n):\n",
    "        x_i = a + (h * i)\n",
    "        y_start = 0\n",
    "        y_next = y[i]\n",
    "        while np.abs(y_next - y_start) > epsilon:\n",
    "            y_start = y_next\n",
    "            y_next = y_start - ((y_start - y[i] - ((h / 2) * (f(x_i, y[i]) + f(x_i + h, y_start)))) / (1 - (h / 2) * derivative(x_i + h, y_start)))\n",
    "        y[i + 1] = y_next\n",
    "        y[i + 1] = y[i] + (h / 2) * (f(x_i, y[i]) + f(x_i + h, y[i + 1]))\n",
    "    return y"
   ]
  },
  {
   "cell_type": "markdown",
   "id": "0b2dfa5d-1d4b-4033-917c-5fac230d1481",
   "metadata": {},
   "source": [
    "#### Явный метод Рунге-Кутты 4-го порядка"
   ]
  },
  {
   "cell_type": "markdown",
   "id": "86c86e85-4791-4b0e-8e04-933de8ccc3c9",
   "metadata": {},
   "source": [
    "$$ \\left\\{ \\begin{array}{cl}\n",
    "k_1 = f(x_i, y_i) \\\\\n",
    "k_2 = f(x_i + \\frac{h}{2}, y_i + \\frac{hk_1}{2}) \\\\\n",
    "k_3 = f(x_i + \\frac{h}{2}, y_i + \\frac{hk_2}{2}) \\\\\n",
    "k_4 = f(x_i + h, y_i + hk_3) \\\\\n",
    "y_{i + 1} = y_i + h(\\frac{k_1}{6} + \\frac{k_2}{3} + \\frac{k_3}{3} + \\frac{k_4}{6}) \\\\\n",
    "\\end{array} \\right. $$"
   ]
  },
  {
   "cell_type": "code",
   "execution_count": 27,
   "id": "be8e1901-664a-46c0-be87-eeeef319f2ec",
   "metadata": {
    "tags": []
   },
   "outputs": [],
   "source": [
    "def runge_kutta(a, b, h, u_0):\n",
    "    n = int((b - a) / h)\n",
    "    y = [0] * (n + 1)\n",
    "    y[0] = u_0\n",
    "    for i in range(n):\n",
    "        x_i = a + (h * i)\n",
    "        k_1 = f(x_i, y[i])\n",
    "        k_2 = f(x_i + (h / 2), y[i] + ((h * k_1) / 2))\n",
    "        k_3 = f(x_i + (h / 2), y[i] + ((h * k_2) / 2))\n",
    "        k_4 = f(x_i + h, y[i] + (h * k_3))\n",
    "        y[i + 1] = y[i] + h * ((k_1 / 6) + (k_2 / 3) + (k_3 / 3) + (k_4 / 6))\n",
    "    return y"
   ]
  },
  {
   "cell_type": "markdown",
   "id": "347e9bc3-e31d-4690-82ca-ceb78c18f0ea",
   "metadata": {},
   "source": [
    "#### Предиктор-корректорный метод Адамса 4-го порядка"
   ]
  },
  {
   "cell_type": "markdown",
   "id": "ef9df45b-50cf-487f-ac52-8501b708319e",
   "metadata": {},
   "source": [
    "$$ y_0 = u_0 $$\n",
    "$$ y_1, y_2, y_3 \\text{ - Runge-Kutta O}(h^4)$$\n",
    "$$ y_{i + 1}^Я = y_i + \\frac{h}{24}(55f_i - 59f_{i - 1} + 37f_{i - 2} - 9f_{i - 3}),\\ \\ \\ \\ \\ f_i = f(x_i, y_i) $$\n",
    "$$ y_{i + 1} = y_i + \\frac{h}{24}(9f_{i + 1} + 19f_i - 5f_{i - 1} + f_{i - 2}),\\ \\ \\ \\ \\ f_i = f(x_i, y_i^Я) $$"
   ]
  },
  {
   "cell_type": "code",
   "execution_count": 31,
   "id": "96605fc4-b3d3-4fd8-8291-e91ad1edbb67",
   "metadata": {
    "tags": []
   },
   "outputs": [],
   "source": [
    "def adams(a, b, h, u_0):\n",
    "    n = int((b - a) / h)\n",
    "    y = [0] * (n + 1)\n",
    "    y[0] = u_0\n",
    "    for i in range(min(n, 3)):\n",
    "        x_i = a + (h * i)\n",
    "        k_1 = f(x_i, y[i])\n",
    "        k_2 = f(x_i + (h / 2), y[i] + ((h * k_1) / 2))\n",
    "        k_3 = f(x_i + (h / 2), y[i] + ((h * k_2) / 2))\n",
    "        k_4 = f(x_i + h, y[i] + (h * k_3))\n",
    "        y[i + 1] = y[i] + h * ((k_1 / 6) + (k_2 / 3) + (k_3 / 3) + (k_4 / 6))\n",
    "    for i in range(3, n):\n",
    "        x_i = a + (h * i)\n",
    "        y_n = y[i] + (h / 24) * (55 * f(x_i, y[i]) - 59 * f(x_i - h, y[i - 1]) + 37 * f(x_i - (2 * h), y[i - 2]) - 9 * f(x_i - (3 * h), y[i - 3]))\n",
    "        y[i + 1] = y[i] + (h / 24) * (9 * f(x_i + h, y_n) + 19 * f(x_i, y[i]) - 5 * f(x_i - h, y[i - 1]) + f(x_i - (2 * h), y[i - 2]))\n",
    "    return y"
   ]
  },
  {
   "cell_type": "markdown",
   "id": "1a699b33-e2e2-4d4a-a028-6dcb08c27882",
   "metadata": {},
   "source": [
    "#### Вызов функций"
   ]
  },
  {
   "cell_type": "code",
   "execution_count": 34,
   "id": "9220d659-705a-4a5a-90a2-d57768be49fb",
   "metadata": {
    "tags": []
   },
   "outputs": [],
   "source": [
    "# Начальное значение u\n",
    "u_0 = 2 / 3\n",
    "\n",
    "# Значения a и b\n",
    "a = 1\n",
    "b = 2\n",
    "\n",
    "# Значение шага\n",
    "h = 0.1\n",
    "\n",
    "# Создаём таблицу значений\n",
    "df = pd.DataFrame(columns=[\"i\",\n",
    "                           \"x\",\n",
    "                           \"Точное значение\",\n",
    "                           \"Неявный метод трапеций\",\n",
    "                           \"Рунге-Кутты 4-го порядка\",\n",
    "                           \"Адамса 4-го порядка\"])\n",
    "# Создаём таблицы ошибок\n",
    "abs_err_df = pd.DataFrame(columns=[\"Неявный метод трапеций\",\n",
    "                           \"Рунге-Кутты 4-го порядка\",\n",
    "                           \"Адамса 4-го порядка\"])\n",
    "\n",
    "err_df = pd.DataFrame(columns=[\"Неявный метод трапеций\",\n",
    "                           \"Рунге-Кутты 4-го порядка\",\n",
    "                           \"Адамса 4-го порядка\"])\n",
    "\n",
    "# Вычисляем значения разных методов\n",
    "y_h = [correct_solution(a, b, h), trapezoidal(a, b, h, u_0), runge_kutta(a, b, h, u_0), adams(a, b, h, u_0)]\n",
    "y_2h = [trapezoidal(a, b, h * 2, u_0), runge_kutta(a, b, h * 2, u_0), adams(a, b, h * 2, u_0)]\n",
    "\n",
    "# Вычисляем ошибки и заполняем таблицы\n",
    "err = [0, 0, 0]\n",
    "max_abs_err = [0, 0, 0]\n",
    "\n",
    "n = int((b - a) / h)\n",
    "for i in range(n + 1):\n",
    "    x = a + (h * i)\n",
    "    corr = y_h[0][i]\n",
    "    trap = y_h[1][i]\n",
    "    rung = y_h[2][i]\n",
    "    adam = y_h[3][i]\n",
    "    df.loc[len(df.index)] = [i, x, corr, trap, rung, adam]\n",
    "    if i % 2 == 0:\n",
    "        err[0] = runge_rule(err[0], y_h[1][i], y_2h[0][i // 2], 2)\n",
    "        err[1] = runge_rule(err[1], y_h[2][i], y_2h[1][i // 2], 4)\n",
    "        err[2] = runge_rule(err[2], y_h[3][i], y_2h[2][i // 2], 4)\n",
    "    \n",
    "    max_abs_err[0] = max_absolute_error(max_abs_err[0], corr, trap)\n",
    "    max_abs_err[1] = max_absolute_error(max_abs_err[1], corr, rung)\n",
    "    max_abs_err[2] = max_absolute_error(max_abs_err[2], corr, adam)\n",
    "    \n",
    "abs_err_df.loc[len(abs_err_df.index)] = max_abs_err\n",
    "err_df.loc[len(err_df.index)] = err"
   ]
  },
  {
   "cell_type": "markdown",
   "id": "f923dad9-b3a0-4b24-9e0b-05d4de9f2e4c",
   "metadata": {},
   "source": [
    "#### Вывод таблиц"
   ]
  },
  {
   "cell_type": "code",
   "execution_count": 36,
   "id": "501ab0f2-105c-449d-8413-c85a5ee7fe70",
   "metadata": {
    "tags": []
   },
   "outputs": [
    {
     "data": {
      "text/html": [
       "<div>\n",
       "<style scoped>\n",
       "    .dataframe tbody tr th:only-of-type {\n",
       "        vertical-align: middle;\n",
       "    }\n",
       "\n",
       "    .dataframe tbody tr th {\n",
       "        vertical-align: top;\n",
       "    }\n",
       "\n",
       "    .dataframe thead th {\n",
       "        text-align: right;\n",
       "    }\n",
       "</style>\n",
       "<table border=\"1\" class=\"dataframe\">\n",
       "  <thead>\n",
       "    <tr style=\"text-align: right;\">\n",
       "      <th></th>\n",
       "      <th>i</th>\n",
       "      <th>x</th>\n",
       "      <th>Точное значение</th>\n",
       "      <th>Неявный метод трапеций</th>\n",
       "      <th>Рунге-Кутты 4-го порядка</th>\n",
       "      <th>Адамса 4-го порядка</th>\n",
       "    </tr>\n",
       "  </thead>\n",
       "  <tbody>\n",
       "    <tr>\n",
       "      <th>0</th>\n",
       "      <td>0.0</td>\n",
       "      <td>1.0</td>\n",
       "      <td>0.666667</td>\n",
       "      <td>0.666667</td>\n",
       "      <td>0.666667</td>\n",
       "      <td>0.666667</td>\n",
       "    </tr>\n",
       "    <tr>\n",
       "      <th>1</th>\n",
       "      <td>1.0</td>\n",
       "      <td>1.1</td>\n",
       "      <td>0.685358</td>\n",
       "      <td>0.685443</td>\n",
       "      <td>0.685358</td>\n",
       "      <td>0.685358</td>\n",
       "    </tr>\n",
       "    <tr>\n",
       "      <th>2</th>\n",
       "      <td>2.0</td>\n",
       "      <td>1.2</td>\n",
       "      <td>0.697674</td>\n",
       "      <td>0.697835</td>\n",
       "      <td>0.697674</td>\n",
       "      <td>0.697674</td>\n",
       "    </tr>\n",
       "    <tr>\n",
       "      <th>3</th>\n",
       "      <td>3.0</td>\n",
       "      <td>1.3</td>\n",
       "      <td>0.704607</td>\n",
       "      <td>0.704833</td>\n",
       "      <td>0.704607</td>\n",
       "      <td>0.704607</td>\n",
       "    </tr>\n",
       "    <tr>\n",
       "      <th>4</th>\n",
       "      <td>4.0</td>\n",
       "      <td>1.4</td>\n",
       "      <td>0.707071</td>\n",
       "      <td>0.707347</td>\n",
       "      <td>0.707071</td>\n",
       "      <td>0.707070</td>\n",
       "    </tr>\n",
       "    <tr>\n",
       "      <th>5</th>\n",
       "      <td>5.0</td>\n",
       "      <td>1.5</td>\n",
       "      <td>0.705882</td>\n",
       "      <td>0.706197</td>\n",
       "      <td>0.705882</td>\n",
       "      <td>0.705881</td>\n",
       "    </tr>\n",
       "    <tr>\n",
       "      <th>6</th>\n",
       "      <td>6.0</td>\n",
       "      <td>1.6</td>\n",
       "      <td>0.701754</td>\n",
       "      <td>0.702095</td>\n",
       "      <td>0.701754</td>\n",
       "      <td>0.701754</td>\n",
       "    </tr>\n",
       "    <tr>\n",
       "      <th>7</th>\n",
       "      <td>7.0</td>\n",
       "      <td>1.7</td>\n",
       "      <td>0.695297</td>\n",
       "      <td>0.695652</td>\n",
       "      <td>0.695296</td>\n",
       "      <td>0.695296</td>\n",
       "    </tr>\n",
       "    <tr>\n",
       "      <th>8</th>\n",
       "      <td>8.0</td>\n",
       "      <td>1.8</td>\n",
       "      <td>0.687023</td>\n",
       "      <td>0.687385</td>\n",
       "      <td>0.687023</td>\n",
       "      <td>0.687023</td>\n",
       "    </tr>\n",
       "    <tr>\n",
       "      <th>9</th>\n",
       "      <td>9.0</td>\n",
       "      <td>1.9</td>\n",
       "      <td>0.677362</td>\n",
       "      <td>0.677724</td>\n",
       "      <td>0.677362</td>\n",
       "      <td>0.677362</td>\n",
       "    </tr>\n",
       "    <tr>\n",
       "      <th>10</th>\n",
       "      <td>10.0</td>\n",
       "      <td>2.0</td>\n",
       "      <td>0.666667</td>\n",
       "      <td>0.667023</td>\n",
       "      <td>0.666666</td>\n",
       "      <td>0.666667</td>\n",
       "    </tr>\n",
       "  </tbody>\n",
       "</table>\n",
       "</div>"
      ],
      "text/plain": [
       "       i    x  Точное значение  Неявный метод трапеций  \\\n",
       "0    0.0  1.0         0.666667                0.666667   \n",
       "1    1.0  1.1         0.685358                0.685443   \n",
       "2    2.0  1.2         0.697674                0.697835   \n",
       "3    3.0  1.3         0.704607                0.704833   \n",
       "4    4.0  1.4         0.707071                0.707347   \n",
       "5    5.0  1.5         0.705882                0.706197   \n",
       "6    6.0  1.6         0.701754                0.702095   \n",
       "7    7.0  1.7         0.695297                0.695652   \n",
       "8    8.0  1.8         0.687023                0.687385   \n",
       "9    9.0  1.9         0.677362                0.677724   \n",
       "10  10.0  2.0         0.666667                0.667023   \n",
       "\n",
       "    Рунге-Кутты 4-го порядка  Адамса 4-го порядка  \n",
       "0                   0.666667             0.666667  \n",
       "1                   0.685358             0.685358  \n",
       "2                   0.697674             0.697674  \n",
       "3                   0.704607             0.704607  \n",
       "4                   0.707071             0.707070  \n",
       "5                   0.705882             0.705881  \n",
       "6                   0.701754             0.701754  \n",
       "7                   0.695296             0.695296  \n",
       "8                   0.687023             0.687023  \n",
       "9                   0.677362             0.677362  \n",
       "10                  0.666666             0.666667  "
      ]
     },
     "execution_count": 36,
     "metadata": {},
     "output_type": "execute_result"
    }
   ],
   "source": [
    "df"
   ]
  },
  {
   "cell_type": "markdown",
   "id": "523f1088-ecab-40a0-b940-53d1f5704308",
   "metadata": {},
   "source": [
    "#### $$ max(|u(x_i) - y_i|)_{(i=0,N)} $$"
   ]
  },
  {
   "cell_type": "code",
   "execution_count": 38,
   "id": "7ae04a67-8a9a-4571-a4d8-b24d56352892",
   "metadata": {
    "tags": []
   },
   "outputs": [
    {
     "data": {
      "text/html": [
       "<div>\n",
       "<style scoped>\n",
       "    .dataframe tbody tr th:only-of-type {\n",
       "        vertical-align: middle;\n",
       "    }\n",
       "\n",
       "    .dataframe tbody tr th {\n",
       "        vertical-align: top;\n",
       "    }\n",
       "\n",
       "    .dataframe thead th {\n",
       "        text-align: right;\n",
       "    }\n",
       "</style>\n",
       "<table border=\"1\" class=\"dataframe\">\n",
       "  <thead>\n",
       "    <tr style=\"text-align: right;\">\n",
       "      <th></th>\n",
       "      <th>Неявный метод трапеций</th>\n",
       "      <th>Рунге-Кутты 4-го порядка</th>\n",
       "      <th>Адамса 4-го порядка</th>\n",
       "    </tr>\n",
       "  </thead>\n",
       "  <tbody>\n",
       "    <tr>\n",
       "      <th>0</th>\n",
       "      <td>0.000362</td>\n",
       "      <td>1.996768e-07</td>\n",
       "      <td>0.000001</td>\n",
       "    </tr>\n",
       "  </tbody>\n",
       "</table>\n",
       "</div>"
      ],
      "text/plain": [
       "   Неявный метод трапеций  Рунге-Кутты 4-го порядка  Адамса 4-го порядка\n",
       "0                0.000362              1.996768e-07             0.000001"
      ]
     },
     "execution_count": 38,
     "metadata": {},
     "output_type": "execute_result"
    }
   ],
   "source": [
    "abs_err_df"
   ]
  },
  {
   "cell_type": "markdown",
   "id": "589ba4d2-b01b-4df5-b461-b4d57e9c772f",
   "metadata": {
    "tags": []
   },
   "source": [
    "#### Оценка погрешности по правилу Рунге"
   ]
  },
  {
   "cell_type": "code",
   "execution_count": 40,
   "id": "bbb285c9-7b6d-46bf-bba2-630d8e16409d",
   "metadata": {
    "tags": []
   },
   "outputs": [
    {
     "data": {
      "text/html": [
       "<div>\n",
       "<style scoped>\n",
       "    .dataframe tbody tr th:only-of-type {\n",
       "        vertical-align: middle;\n",
       "    }\n",
       "\n",
       "    .dataframe tbody tr th {\n",
       "        vertical-align: top;\n",
       "    }\n",
       "\n",
       "    .dataframe thead th {\n",
       "        text-align: right;\n",
       "    }\n",
       "</style>\n",
       "<table border=\"1\" class=\"dataframe\">\n",
       "  <thead>\n",
       "    <tr style=\"text-align: right;\">\n",
       "      <th></th>\n",
       "      <th>Неявный метод трапеций</th>\n",
       "      <th>Рунге-Кутты 4-го порядка</th>\n",
       "      <th>Адамса 4-го порядка</th>\n",
       "    </tr>\n",
       "  </thead>\n",
       "  <tbody>\n",
       "    <tr>\n",
       "      <th>0</th>\n",
       "      <td>0.000363</td>\n",
       "      <td>2.272593e-07</td>\n",
       "      <td>8.412684e-07</td>\n",
       "    </tr>\n",
       "  </tbody>\n",
       "</table>\n",
       "</div>"
      ],
      "text/plain": [
       "   Неявный метод трапеций  Рунге-Кутты 4-го порядка  Адамса 4-го порядка\n",
       "0                0.000363              2.272593e-07         8.412684e-07"
      ]
     },
     "execution_count": 40,
     "metadata": {},
     "output_type": "execute_result"
    }
   ],
   "source": [
    "err_df"
   ]
  },
  {
   "cell_type": "markdown",
   "id": "e40e308b-e582-4d33-8241-420e1c4d91c8",
   "metadata": {
    "tags": []
   },
   "source": [
    "Вывод: Метод Рунге-Кутты показывает себя лучше остальных для данной задачи Коши"
   ]
  }
 ],
 "metadata": {
  "kernelspec": {
   "display_name": "Python 3 (ipykernel)",
   "language": "python",
   "name": "python3"
  },
  "language_info": {
   "codemirror_mode": {
    "name": "ipython",
    "version": 3
   },
   "file_extension": ".py",
   "mimetype": "text/x-python",
   "name": "python",
   "nbconvert_exporter": "python",
   "pygments_lexer": "ipython3",
   "version": "3.11.7"
  }
 },
 "nbformat": 4,
 "nbformat_minor": 5
}
